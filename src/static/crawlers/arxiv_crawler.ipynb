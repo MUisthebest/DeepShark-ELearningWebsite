{
 "cells": [
  {
   "cell_type": "code",
   "execution_count": null,
   "metadata": {
    "_cell_guid": "b1076dfc-b9ad-4769-8c92-a6c4dae69d19",
    "_uuid": "8f2839f25d086af736a60e9eeb907d3b93b6e0e5",
    "execution": {
     "iopub.execute_input": "2025-03-27T09:19:43.418814Z",
     "iopub.status.busy": "2025-03-27T09:19:43.418495Z",
     "iopub.status.idle": "2025-03-27T13:25:07.963724Z",
     "shell.execute_reply": "2025-03-27T13:25:07.962771Z",
     "shell.execute_reply.started": "2025-03-27T09:19:43.418785Z"
    },
    "trusted": true
   },
   "outputs": [
    {
     "name": "stderr",
     "output_type": "stream",
     "text": [
      "/usr/local/lib/python3.10/dist-packages/bs4/__init__.py:228: UserWarning: You provided Unicode markup but also provided a value for from_encoding. Your from_encoding will be ignored.\n",
      "  warnings.warn(\"You provided Unicode markup but also provided a value for from_encoding. Your from_encoding will be ignored.\")\n"
     ]
    },
    {
     "name": "stdout",
     "output_type": "stream",
     "text": [
      "Scraping year 2017 with 32728 total entries\n"
     ]
    },
    {
     "name": "stderr",
     "output_type": "stream",
     "text": [
      "Year 2017 Progress:  52%|█████▏    | 339/655 [04:48<03:28,  1.52it/s]"
     ]
    },
    {
     "name": "stdout",
     "output_type": "stream",
     "text": [
      "Checkpoint: 5005 articles saved\n"
     ]
    },
    {
     "name": "stderr",
     "output_type": "stream",
     "text": [
      "Year 2017 Progress: 100%|██████████| 655/655 [09:31<00:00,  1.15it/s]\n"
     ]
    },
    {
     "name": "stdout",
     "output_type": "stream",
     "text": [
      "Scraping year 2018 with 43957 total entries\n"
     ]
    },
    {
     "name": "stderr",
     "output_type": "stream",
     "text": [
      "Year 2018 Progress:   1%|▏         | 11/880 [00:16<19:29,  1.35s/it] "
     ]
    },
    {
     "name": "stdout",
     "output_type": "stream",
     "text": [
      "Checkpoint: 10012 articles saved\n"
     ]
    },
    {
     "name": "stderr",
     "output_type": "stream",
     "text": [
      "Year 2018 Progress:  35%|███▌      | 311/880 [04:47<08:40,  1.09it/s]"
     ]
    },
    {
     "name": "stdout",
     "output_type": "stream",
     "text": [
      "Checkpoint: 15001 articles saved\n"
     ]
    },
    {
     "name": "stderr",
     "output_type": "stream",
     "text": [
      "Year 2018 Progress:  66%|██████▌   | 580/880 [09:40<04:10,  1.20it/s]"
     ]
    },
    {
     "name": "stdout",
     "output_type": "stream",
     "text": [
      "Checkpoint: 20023 articles saved\n"
     ]
    },
    {
     "name": "stderr",
     "output_type": "stream",
     "text": [
      "Year 2018 Progress:  97%|█████████▋| 852/880 [14:53<00:30,  1.09s/it]"
     ]
    },
    {
     "name": "stdout",
     "output_type": "stream",
     "text": [
      "Checkpoint: 25002 articles saved\n"
     ]
    },
    {
     "name": "stderr",
     "output_type": "stream",
     "text": [
      "Year 2018 Progress: 100%|██████████| 880/880 [15:16<00:00,  1.04s/it]\n"
     ]
    },
    {
     "name": "stdout",
     "output_type": "stream",
     "text": [
      "Scraping year 2019 with 56002 total entries\n"
     ]
    },
    {
     "name": "stderr",
     "output_type": "stream",
     "text": [
      "Year 2019 Progress:  20%|██        | 225/1121 [04:34<15:45,  1.05s/it]"
     ]
    },
    {
     "name": "stdout",
     "output_type": "stream",
     "text": [
      "Checkpoint: 30029 articles saved\n"
     ]
    },
    {
     "name": "stderr",
     "output_type": "stream",
     "text": [
      "Year 2019 Progress:  40%|████      | 453/1121 [09:15<12:54,  1.16s/it]"
     ]
    },
    {
     "name": "stdout",
     "output_type": "stream",
     "text": [
      "Checkpoint: 35031 articles saved\n"
     ]
    },
    {
     "name": "stderr",
     "output_type": "stream",
     "text": [
      "Year 2019 Progress:  61%|██████    | 683/1121 [13:51<08:27,  1.16s/it]"
     ]
    },
    {
     "name": "stdout",
     "output_type": "stream",
     "text": [
      "Checkpoint: 40026 articles saved\n"
     ]
    },
    {
     "name": "stderr",
     "output_type": "stream",
     "text": [
      "Year 2019 Progress:  81%|████████▏ | 911/1121 [18:35<04:22,  1.25s/it]"
     ]
    },
    {
     "name": "stdout",
     "output_type": "stream",
     "text": [
      "Checkpoint: 45007 articles saved\n"
     ]
    },
    {
     "name": "stderr",
     "output_type": "stream",
     "text": [
      "Year 2019 Progress: 100%|██████████| 1121/1121 [22:37<00:00,  1.21s/it]\n"
     ]
    },
    {
     "name": "stdout",
     "output_type": "stream",
     "text": [
      "Scraping year 2020 with 71440 total entries\n"
     ]
    },
    {
     "name": "stderr",
     "output_type": "stream",
     "text": [
      "Year 2020 Progress:   4%|▎         | 52/1429 [01:17<31:18,  1.36s/it] "
     ]
    },
    {
     "name": "stdout",
     "output_type": "stream",
     "text": [
      "Checkpoint: 50035 articles saved\n"
     ]
    },
    {
     "name": "stderr",
     "output_type": "stream",
     "text": [
      "Year 2020 Progress:  19%|█▉        | 278/1429 [06:09<20:22,  1.06s/it]"
     ]
    },
    {
     "name": "stdout",
     "output_type": "stream",
     "text": [
      "Checkpoint: 55010 articles saved\n"
     ]
    },
    {
     "name": "stderr",
     "output_type": "stream",
     "text": [
      "Year 2020 Progress:  36%|███▌      | 510/1429 [11:00<14:23,  1.06it/s]"
     ]
    },
    {
     "name": "stdout",
     "output_type": "stream",
     "text": [
      "Checkpoint: 60023 articles saved\n"
     ]
    },
    {
     "name": "stderr",
     "output_type": "stream",
     "text": [
      "Year 2020 Progress:  51%|█████▏    | 733/1429 [16:00<14:24,  1.24s/it]"
     ]
    },
    {
     "name": "stdout",
     "output_type": "stream",
     "text": [
      "Checkpoint: 65005 articles saved\n"
     ]
    },
    {
     "name": "stderr",
     "output_type": "stream",
     "text": [
      "Year 2020 Progress:  67%|██████▋   | 960/1429 [20:38<07:09,  1.09it/s]"
     ]
    },
    {
     "name": "stdout",
     "output_type": "stream",
     "text": [
      "Checkpoint: 70016 articles saved\n"
     ]
    },
    {
     "name": "stderr",
     "output_type": "stream",
     "text": [
      "Year 2020 Progress:  82%|████████▏ | 1178/1429 [25:26<04:22,  1.05s/it]"
     ]
    },
    {
     "name": "stdout",
     "output_type": "stream",
     "text": [
      "Checkpoint: 75000 articles saved\n"
     ]
    },
    {
     "name": "stderr",
     "output_type": "stream",
     "text": [
      "Year 2020 Progress: 100%|██████████| 1429/1429 [30:41<00:00,  1.29s/it]\n"
     ]
    },
    {
     "name": "stdout",
     "output_type": "stream",
     "text": [
      "Scraping year 2021 with 77528 total entries\n"
     ]
    },
    {
     "name": "stderr",
     "output_type": "stream",
     "text": [
      "Year 2021 Progress:   0%|          | 6/1551 [00:15<51:36,  2.00s/it]  "
     ]
    },
    {
     "name": "stdout",
     "output_type": "stream",
     "text": [
      "Checkpoint: 80037 articles saved\n"
     ]
    },
    {
     "name": "stderr",
     "output_type": "stream",
     "text": [
      "Year 2021 Progress:  15%|█▌        | 237/1551 [05:10<23:32,  1.08s/it]"
     ]
    },
    {
     "name": "stdout",
     "output_type": "stream",
     "text": [
      "Checkpoint: 85017 articles saved\n"
     ]
    },
    {
     "name": "stderr",
     "output_type": "stream",
     "text": [
      "Year 2021 Progress:  31%|███▏      | 485/1551 [10:16<19:44,  1.11s/it]"
     ]
    },
    {
     "name": "stdout",
     "output_type": "stream",
     "text": [
      "Checkpoint: 90000 articles saved\n"
     ]
    },
    {
     "name": "stderr",
     "output_type": "stream",
     "text": [
      "Year 2021 Progress:  46%|████▌     | 706/1551 [15:05<15:41,  1.11s/it]"
     ]
    },
    {
     "name": "stdout",
     "output_type": "stream",
     "text": [
      "Checkpoint: 95038 articles saved\n"
     ]
    },
    {
     "name": "stderr",
     "output_type": "stream",
     "text": [
      "Year 2021 Progress:  60%|█████▉    | 927/1551 [19:52<11:15,  1.08s/it]"
     ]
    },
    {
     "name": "stdout",
     "output_type": "stream",
     "text": [
      "Checkpoint: 100028 articles saved\n"
     ]
    },
    {
     "name": "stderr",
     "output_type": "stream",
     "text": [
      "Year 2021 Progress:  74%|███████▍  | 1152/1551 [24:54<09:07,  1.37s/it]"
     ]
    },
    {
     "name": "stdout",
     "output_type": "stream",
     "text": [
      "Checkpoint: 105020 articles saved\n"
     ]
    },
    {
     "name": "stderr",
     "output_type": "stream",
     "text": [
      "Year 2021 Progress:  89%|████████▊ | 1376/1551 [29:45<03:26,  1.18s/it]"
     ]
    },
    {
     "name": "stdout",
     "output_type": "stream",
     "text": [
      "Checkpoint: 110002 articles saved\n"
     ]
    },
    {
     "name": "stderr",
     "output_type": "stream",
     "text": [
      "Year 2021 Progress: 100%|██████████| 1551/1551 [33:35<00:00,  1.30s/it]\n"
     ]
    },
    {
     "name": "stdout",
     "output_type": "stream",
     "text": [
      "Scraping year 2022 with 81982 total entries\n"
     ]
    },
    {
     "name": "stderr",
     "output_type": "stream",
     "text": [
      "Year 2022 Progress:   4%|▍         | 69/1640 [01:28<26:41,  1.02s/it] "
     ]
    },
    {
     "name": "stdout",
     "output_type": "stream",
     "text": [
      "Checkpoint: 115010 articles saved\n"
     ]
    },
    {
     "name": "stderr",
     "output_type": "stream",
     "text": [
      "Year 2022 Progress:  18%|█▊        | 297/1640 [06:27<25:46,  1.15s/it]"
     ]
    },
    {
     "name": "stdout",
     "output_type": "stream",
     "text": [
      "Checkpoint: 120000 articles saved\n"
     ]
    },
    {
     "name": "stderr",
     "output_type": "stream",
     "text": [
      "Year 2022 Progress:  31%|███▏      | 513/1640 [11:17<24:43,  1.32s/it]"
     ]
    },
    {
     "name": "stdout",
     "output_type": "stream",
     "text": [
      "Checkpoint: 125001 articles saved\n"
     ]
    },
    {
     "name": "stderr",
     "output_type": "stream",
     "text": [
      "Year 2022 Progress:  45%|████▌     | 744/1640 [16:11<18:51,  1.26s/it]"
     ]
    },
    {
     "name": "stdout",
     "output_type": "stream",
     "text": [
      "Checkpoint: 130032 articles saved\n"
     ]
    },
    {
     "name": "stderr",
     "output_type": "stream",
     "text": [
      "Year 2022 Progress:  59%|█████▉    | 974/1640 [21:09<13:58,  1.26s/it]"
     ]
    },
    {
     "name": "stdout",
     "output_type": "stream",
     "text": [
      "Checkpoint: 135004 articles saved\n"
     ]
    },
    {
     "name": "stderr",
     "output_type": "stream",
     "text": [
      "Year 2022 Progress:  73%|███████▎  | 1193/1640 [25:59<09:45,  1.31s/it]"
     ]
    },
    {
     "name": "stdout",
     "output_type": "stream",
     "text": [
      "Checkpoint: 140040 articles saved\n"
     ]
    },
    {
     "name": "stderr",
     "output_type": "stream",
     "text": [
      "Year 2022 Progress:  87%|████████▋ | 1421/1640 [30:56<04:56,  1.35s/it]"
     ]
    },
    {
     "name": "stdout",
     "output_type": "stream",
     "text": [
      "Checkpoint: 145017 articles saved\n"
     ]
    },
    {
     "name": "stderr",
     "output_type": "stream",
     "text": [
      "Year 2022 Progress: 100%|██████████| 1640/1640 [35:30<00:00,  1.30s/it]\n"
     ]
    },
    {
     "name": "stdout",
     "output_type": "stream",
     "text": [
      "Scraping year 2023 with 99628 total entries\n"
     ]
    },
    {
     "name": "stderr",
     "output_type": "stream",
     "text": [
      "Year 2023 Progress:   2%|▏         | 31/1993 [00:54<53:52,  1.65s/it]  "
     ]
    },
    {
     "name": "stdout",
     "output_type": "stream",
     "text": [
      "Checkpoint: 150012 articles saved\n"
     ]
    },
    {
     "name": "stderr",
     "output_type": "stream",
     "text": [
      "Year 2023 Progress:  13%|█▎        | 268/1993 [05:51<32:02,  1.11s/it]"
     ]
    },
    {
     "name": "stdout",
     "output_type": "stream",
     "text": [
      "Checkpoint: 155003 articles saved\n"
     ]
    },
    {
     "name": "stderr",
     "output_type": "stream",
     "text": [
      "Year 2023 Progress:  25%|██▌       | 499/1993 [10:59<29:04,  1.17s/it]"
     ]
    },
    {
     "name": "stdout",
     "output_type": "stream",
     "text": [
      "Checkpoint: 160033 articles saved\n"
     ]
    },
    {
     "name": "stderr",
     "output_type": "stream",
     "text": [
      "Year 2023 Progress:  37%|███▋      | 735/1993 [16:06<23:55,  1.14s/it]"
     ]
    },
    {
     "name": "stdout",
     "output_type": "stream",
     "text": [
      "Checkpoint: 165034 articles saved\n"
     ]
    },
    {
     "name": "stderr",
     "output_type": "stream",
     "text": [
      "Year 2023 Progress:  50%|████▉     | 989/1993 [21:18<17:35,  1.05s/it]"
     ]
    },
    {
     "name": "stdout",
     "output_type": "stream",
     "text": [
      "Checkpoint: 170012 articles saved\n"
     ]
    },
    {
     "name": "stderr",
     "output_type": "stream",
     "text": [
      "Year 2023 Progress:  61%|██████▏   | 1222/1993 [26:24<16:40,  1.30s/it]"
     ]
    },
    {
     "name": "stdout",
     "output_type": "stream",
     "text": [
      "Checkpoint: 175031 articles saved\n"
     ]
    },
    {
     "name": "stderr",
     "output_type": "stream",
     "text": [
      "Year 2023 Progress:  75%|███████▌  | 1499/1993 [31:45<09:43,  1.18s/it]"
     ]
    },
    {
     "name": "stdout",
     "output_type": "stream",
     "text": [
      "Checkpoint: 180018 articles saved\n"
     ]
    },
    {
     "name": "stderr",
     "output_type": "stream",
     "text": [
      "Year 2023 Progress:  87%|████████▋ | 1738/1993 [36:56<04:53,  1.15s/it]"
     ]
    },
    {
     "name": "stdout",
     "output_type": "stream",
     "text": [
      "Checkpoint: 185004 articles saved\n"
     ]
    },
    {
     "name": "stderr",
     "output_type": "stream",
     "text": [
      "Year 2023 Progress: 100%|██████████| 1993/1993 [42:13<00:00,  1.27s/it]\n"
     ]
    },
    {
     "name": "stdout",
     "output_type": "stream",
     "text": [
      "Scraping year 2024 with 125573 total entries\n"
     ]
    },
    {
     "name": "stderr",
     "output_type": "stream",
     "text": [
      "Year 2024 Progress:   2%|▏         | 54/2512 [01:01<47:10,  1.15s/it] "
     ]
    },
    {
     "name": "stdout",
     "output_type": "stream",
     "text": [
      "Checkpoint: 190021 articles saved\n"
     ]
    },
    {
     "name": "stderr",
     "output_type": "stream",
     "text": [
      "Year 2024 Progress:  17%|█▋        | 415/2512 [07:32<40:50,  1.17s/it]"
     ]
    },
    {
     "name": "stdout",
     "output_type": "stream",
     "text": [
      "Checkpoint: 195010 articles saved\n"
     ]
    },
    {
     "name": "stderr",
     "output_type": "stream",
     "text": [
      "Year 2024 Progress:  33%|███▎      | 833/2512 [14:36<30:53,  1.10s/it]"
     ]
    },
    {
     "name": "stdout",
     "output_type": "stream",
     "text": [
      "Checkpoint: 200032 articles saved\n"
     ]
    },
    {
     "name": "stderr",
     "output_type": "stream",
     "text": [
      "Year 2024 Progress:  48%|████▊     | 1199/2512 [21:10<23:41,  1.08s/it]"
     ]
    },
    {
     "name": "stdout",
     "output_type": "stream",
     "text": [
      "Checkpoint: 205001 articles saved\n"
     ]
    },
    {
     "name": "stderr",
     "output_type": "stream",
     "text": [
      "Year 2024 Progress:  68%|██████▊   | 1719/2512 [29:14<11:43,  1.13it/s]"
     ]
    },
    {
     "name": "stdout",
     "output_type": "stream",
     "text": [
      "Checkpoint: 210015 articles saved\n"
     ]
    },
    {
     "name": "stderr",
     "output_type": "stream",
     "text": [
      "Year 2024 Progress:  85%|████████▍ | 2133/2512 [36:19<08:14,  1.30s/it]"
     ]
    },
    {
     "name": "stdout",
     "output_type": "stream",
     "text": [
      "Checkpoint: 215005 articles saved\n"
     ]
    },
    {
     "name": "stderr",
     "output_type": "stream",
     "text": [
      "Year 2024 Progress: 100%|██████████| 2512/2512 [42:07<00:00,  1.01s/it]\n"
     ]
    },
    {
     "name": "stdout",
     "output_type": "stream",
     "text": [
      "Scraping year 2025 with 32794 total entries\n"
     ]
    },
    {
     "name": "stderr",
     "output_type": "stream",
     "text": [
      "Year 2025 Progress:  11%|█         | 69/656 [01:22<10:09,  1.04s/it] "
     ]
    },
    {
     "name": "stdout",
     "output_type": "stream",
     "text": [
      "Checkpoint: 220021 articles saved\n"
     ]
    },
    {
     "name": "stderr",
     "output_type": "stream",
     "text": [
      "Year 2025 Progress:  42%|████▏     | 274/656 [05:31<08:05,  1.27s/it]"
     ]
    },
    {
     "name": "stdout",
     "output_type": "stream",
     "text": [
      "Checkpoint: 225013 articles saved\n"
     ]
    },
    {
     "name": "stderr",
     "output_type": "stream",
     "text": [
      "Year 2025 Progress:  72%|███████▏  | 472/656 [09:29<04:13,  1.38s/it]"
     ]
    },
    {
     "name": "stdout",
     "output_type": "stream",
     "text": [
      "Checkpoint: 230026 articles saved\n"
     ]
    },
    {
     "name": "stderr",
     "output_type": "stream",
     "text": [
      "Year 2025 Progress: 100%|██████████| 656/656 [12:53<00:00,  1.18s/it]\n"
     ]
    },
    {
     "name": "stdout",
     "output_type": "stream",
     "text": [
      "Final save: 234170 articles saved to /kaggle/working/arxiv_cs_2017_2025.csv\n"
     ]
    }
   ],
   "source": [
    "import aiohttp\n",
    "import asyncio\n",
    "import pandas as pd\n",
    "import time\n",
    "import random\n",
    "import re\n",
    "from bs4 import BeautifulSoup\n",
    "from tqdm import tqdm\n",
    "import nest_asyncio\n",
    "\n",
    "nest_asyncio.apply()\n",
    "\n",
    "topics = {\n",
    "    \"Artificial Intelligence\": \"cs.AI\",\n",
    "    \"Hardware Architecture\": \"cs.AR\",\n",
    "    \"Computation and Language\": \"cs.CL\",\n",
    "    \"Computer Vision and Pattern Recognition\": \"cs.CV\",\n",
    "    \"Databases\": \"cs.DB\",\n",
    "    \"Data Structures and Algorithms\": \"cs.DS\",\n",
    "    \"Formal Languages and Automata Theory\": \"cs.FL\",\n",
    "    \"Computer Science and Game Theory\": \"cs.GT\",\n",
    "    \"Human-Computer Interaction\": \"cs.HC\",\n",
    "    \"Information Retrieval\": \"cs.IR\",\n",
    "    \"Machine Learning\": \"cs.LG\",\n",
    "    \"Sound\": \"cs.SD\",\n",
    "    \"Robotics\": \"cs.RO\",\n",
    "    \"Software Engineering\": \"cs.SE\",\n",
    "    \"Cryptography and Security\": \"cs.CR\"\n",
    "}\n",
    "VALID_CATEGORIES = set(topics.values())\n",
    "\n",
    "data = []\n",
    "CHECKPOINT_INTERVAL = 5000\n",
    "\n",
    "headers = {\n",
    "    \"User-Agent\": \"Mozilla/5.0 (Windows NT 10.0; Win64; x64) AppleWebKit/537.36 (KHTML, like Gecko) Chrome/134.0.0.0 Safari/537.36\",\n",
    "    \"Accept\": \"text/html,application/xhtml+xml,application/xml;q=0.9,*/*;q=0.8\",\n",
    "}\n",
    "\n",
    "async def fetch_page(session, url):\n",
    "    try:\n",
    "        async with session.get(url, headers=headers, timeout=5) as response:\n",
    "            response.raise_for_status()\n",
    "            return await response.text()\n",
    "    except Exception:\n",
    "        return None\n",
    "\n",
    "def parse_total_entries(html):\n",
    "    soup = BeautifulSoup(html, \"html.parser\", from_encoding=\"utf-8\")\n",
    "    paging_div = soup.find(\"div\", class_=\"paging\")\n",
    "    if paging_div:\n",
    "        match = re.search(r\"Total of (\\d+) entries\", paging_div.text)\n",
    "        return int(match.group(1)) if match else 0\n",
    "    return 0\n",
    "\n",
    "async def scrape_abstract(session, link, title):\n",
    "    html = await fetch_page(session, link)\n",
    "    if not html:\n",
    "        return None\n",
    "\n",
    "    soup = BeautifulSoup(html, \"html.parser\", from_encoding=\"utf-8\")\n",
    "    subjects_elem = soup.find(\"td\", class_=\"tablecell subjects\")\n",
    "    if not subjects_elem:\n",
    "        return None\n",
    "\n",
    "    categories = re.findall(r'\\(([\\w\\.]+)\\)', subjects_elem.text)\n",
    "    matching_categories = set(categories) & VALID_CATEGORIES\n",
    "    if not matching_categories:\n",
    "        return None\n",
    "\n",
    "    matched_category = next(iter(matching_categories))\n",
    "    category_name = next((name for name, code in topics.items() if code == matched_category), \"Unknown\")\n",
    "\n",
    "    abstract_elem = soup.find(\"blockquote\", class_=\"abstract\")\n",
    "    abstract = abstract_elem.text.replace(\"Abstract:\", \"\").strip() if abstract_elem else \"Not found\"\n",
    "\n",
    "    return {\n",
    "        \"Title\": title,\n",
    "        \"Link\": link,\n",
    "        \"Category\": category_name,\n",
    "        \"Abstract\": abstract\n",
    "    }\n",
    "\n",
    "async def scrape_page(session, page_url, year):\n",
    "    html = await fetch_page(session, page_url)\n",
    "    if not html:\n",
    "        return []\n",
    "\n",
    "    soup = BeautifulSoup(html, \"html.parser\", from_encoding=\"utf-8\")\n",
    "    article_list = soup.find(\"dl\", id=\"articles\")\n",
    "    if not article_list:\n",
    "        return []\n",
    "\n",
    "    dt_elements = article_list.find_all(\"dt\")\n",
    "    dd_elements = article_list.find_all(\"dd\")\n",
    "\n",
    "    tasks = []\n",
    "    for dt, dd in zip(dt_elements, dd_elements):\n",
    "        link_elem = dt.find(\"a\", title=\"Abstract\")\n",
    "        if not link_elem:\n",
    "            continue\n",
    "        link = \"https://arxiv.org\" + link_elem[\"href\"]\n",
    "        title_elem = dd.find(\"div\", class_=\"list-title\")\n",
    "        if not title_elem:\n",
    "            continue\n",
    "        title = title_elem.text.replace(\"Title:\", \"\").strip()\n",
    "        tasks.append(scrape_abstract(session, link, title))\n",
    "\n",
    "    if not tasks:\n",
    "        return []\n",
    "\n",
    "    page_data = []\n",
    "    for result in await asyncio.gather(*tasks, return_exceptions=True):\n",
    "        if isinstance(result, dict):\n",
    "            page_data.append(result)\n",
    "\n",
    "    return page_data\n",
    "\n",
    "async def scrape_year(year):\n",
    "    base_url = f\"https://arxiv.org/list/cs/{year}\"\n",
    "    initial_url = f\"{base_url}?skip=0&show=50\"\n",
    "\n",
    "    async with aiohttp.ClientSession() as session:\n",
    "        html = await fetch_page(session, initial_url)\n",
    "        if not html:\n",
    "            print(f\"Failed to load initial page for year {year}\")\n",
    "            return\n",
    "\n",
    "        total_entries = parse_total_entries(html)\n",
    "        if total_entries == 0:\n",
    "            print(f\"Could not determine total entries for year {year}\")\n",
    "            return\n",
    "\n",
    "        print(f\"Scraping year {year} with {total_entries} total entries\")\n",
    "        entries_per_page = 50\n",
    "        total_pages = (total_entries + entries_per_page - 1) // entries_per_page\n",
    "        page_urls = [f\"{base_url}?skip={page * entries_per_page}&show={entries_per_page}\" \n",
    "                     for page in range(total_pages)]\n",
    "\n",
    "        with tqdm(total=total_pages, desc=f\"Year {year} Progress\") as pbar:\n",
    "            for i in range(0, len(page_urls), 10):  \n",
    "                batch_urls = page_urls[i:i + 10]\n",
    "                tasks = [scrape_page(session, url, year) for url in batch_urls]\n",
    "                for page_data in await asyncio.gather(*tasks, return_exceptions=True):\n",
    "                    if isinstance(page_data, list):\n",
    "                        data.extend(page_data)\n",
    "                        if len(data) // CHECKPOINT_INTERVAL > (len(data) - len(page_data)) // CHECKPOINT_INTERVAL:\n",
    "                            save_checkpoint()\n",
    "                    pbar.update(1)\n",
    "                await asyncio.sleep(random.uniform(0.5, 1.5))\n",
    "\n",
    "def save_checkpoint():\n",
    "    df = pd.DataFrame(data)\n",
    "    df.to_csv(\"/kaggle/working/arxiv_cs_2017_2025.csv\", index=False, encoding=\"utf-8\")\n",
    "    print(f\"Checkpoint: {len(data)} articles saved\")\n",
    "\n",
    "if __name__ == \"__main__\":\n",
    "    for year in range(2017, 2026):\n",
    "        asyncio.run(scrape_year(year))\n",
    "        time.sleep(random.uniform(2, 5))\n",
    "\n",
    "    if data:\n",
    "        df = pd.DataFrame(data)\n",
    "        df.to_csv(\"/kaggle/working/arxiv_cs_2017_2025.csv\", index=False, encoding=\"utf-8\")\n",
    "        print(f\"Final save: {len(data)} articles saved to /kaggle/working/arxiv_cs_2017_2025.csv\")\n",
    "    else:\n",
    "        print(\"No data scraped\")"
   ]
  }
 ],
 "metadata": {
  "kaggle": {
   "accelerator": "nvidiaTeslaT4",
   "dataSources": [],
   "dockerImageVersionId": 30919,
   "isGpuEnabled": true,
   "isInternetEnabled": true,
   "language": "python",
   "sourceType": "notebook"
  },
  "kernelspec": {
   "display_name": "Python 3",
   "language": "python",
   "name": "python3"
  },
  "language_info": {
   "codemirror_mode": {
    "name": "ipython",
    "version": 3
   },
   "file_extension": ".py",
   "mimetype": "text/x-python",
   "name": "python",
   "nbconvert_exporter": "python",
   "pygments_lexer": "ipython3",
   "version": "3.10.12"
  }
 },
 "nbformat": 4,
 "nbformat_minor": 4
}
